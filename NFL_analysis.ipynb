{
 "cells": [
  {
   "cell_type": "markdown",
   "id": "b62dca66-05f6-4cd6-8f44-50c39cfa8cb5",
   "metadata": {},
   "source": [
    "This notebook, written by E. Karlé, contains the code necessary to reproduce Figure 5 and Tables 3,4 from the article Dynamic Ranking with the BTL Model: A Nearest Neighbor based Rank Centrality Method. https://arxiv.org/abs/2109.13743\n",
    "\n",
    "This notebook is dedicated to the analysis of the NFL data set, available in the nflWAR package (Yurko et al., 2019), via the estimation of the top 10 ranks at the end of each season and via the computation of correlations with respect to the ELO ratings, considered in this anaylisi as the true ratings.\n",
    "\n",
    "To use this notebook, the user needs to dowload the nfl data from the nflWAR package, for seasons 2011 to 2015 and write the path to this directory as the variable data_dir."
   ]
  },
  {
   "cell_type": "code",
   "execution_count": 4,
   "id": "25ef2c54-6ed6-4387-8e19-203768657a7a",
   "metadata": {},
   "outputs": [],
   "source": [
    "import numpy as np\n",
    "import pickle\n",
    "import random\n",
    "import matplotlib.pyplot as plt\n",
    "import os\n",
    "import pandas as pd\n",
    "import math\n",
    "\n",
    "os.environ[\"PATH\"] += os.pathsep + '/Library/TeX/texbin'\n",
    "\n",
    "import sys\n",
    "sys.path.append('modules')\n",
    "import scipy.stats as ss\n",
    "from tabulate import tabulate\n",
    "\n",
    "import graph_module as graph\n",
    "import nfl_module as nfl"
   ]
  },
  {
   "cell_type": "code",
   "execution_count": 5,
   "id": "01c99b28-99c3-41ce-a162-e7ce6edac2ba",
   "metadata": {},
   "outputs": [],
   "source": [
    "# Load datasets\n",
    "data_dir = 'nfl_data'\n",
    "all_rnds = np.arange(1,17)\n",
    "all_seasons = np.arange(2011,2016)\n",
    "\n",
    "team_id = pd.read_csv(os.path.join(data_dir, \"nfl_id.csv\"))\n",
    "elo_all = pd.read_csv(os.path.join(data_dir, \"nfl_elo.csv\"))"
   ]
  },
  {
   "cell_type": "markdown",
   "id": "3558eb82-12c6-4a45-8e45-88bcd1973183",
   "metadata": {},
   "source": [
    "# Analysis of the NFL data set"
   ]
  },
  {
   "cell_type": "code",
   "execution_count": 6,
   "id": "c4d08f08-2e5d-4377-bba8-e990d6b525a3",
   "metadata": {},
   "outputs": [
    {
     "name": "stdout",
     "output_type": "stream",
     "text": [
      "2011\n"
     ]
    },
    {
     "name": "stderr",
     "output_type": "stream",
     "text": [
      "modules/loocv_module.py:23: ComplexWarning: Casting complex values to real discards the imaginary part\n",
      "  pis[i,:] = sim.RC_dyn(t,Y,A, delta, tol=1e-12)\n",
      "modules/loocv_module.py:48: RuntimeWarning: invalid value encountered in double_scalars\n",
      "  prob = pi[j]/(pi[i]+pi[j])\n",
      "modules/loocv_module.py:48: RuntimeWarning: invalid value encountered in cdouble_scalars\n",
      "  prob = pi[j]/(pi[i]+pi[j])\n"
     ]
    },
    {
     "name": "stdout",
     "output_type": "stream",
     "text": [
      "1-th cv done\n",
      "2-th cv done\n",
      "3-th cv done\n",
      "4-th cv done\n",
      "5-th cv done\n",
      "6-th cv done\n",
      "7-th cv done\n",
      "8-th cv done\n",
      "9-th cv done\n",
      "10-th cv done\n",
      "11-th cv done\n",
      "12-th cv done\n",
      "13-th cv done\n",
      "14-th cv done\n",
      "15-th cv done\n",
      "16-th cv done\n",
      "17-th cv done\n",
      "18-th cv done\n",
      "19-th cv done\n",
      "20-th cv done\n",
      "season 2011 finished. \n",
      "\n"
     ]
    },
    {
     "ename": "NameError",
     "evalue": "name 'pi_rc' is not defined",
     "output_type": "error",
     "traceback": [
      "\u001b[0;31m---------------------------------------------------------------------------\u001b[0m",
      "\u001b[0;31mNameError\u001b[0m                                 Traceback (most recent call last)",
      "Cell \u001b[0;32mIn[6], line 26\u001b[0m\n\u001b[1;32m     23\u001b[0m df_score_elo \u001b[38;5;241m=\u001b[39m df_score_elo\u001b[38;5;241m/\u001b[39m\u001b[38;5;28msum\u001b[39m(df_score_elo)\n\u001b[1;32m     25\u001b[0m \u001b[38;5;66;03m# Correlation between ELO scores and estimated strength for DRC and MLE\u001b[39;00m\n\u001b[0;32m---> 26\u001b[0m corr_drc\u001b[38;5;241m.\u001b[39mappend(np\u001b[38;5;241m.\u001b[39mcorrcoef(df_score_elo,\u001b[43mpi_rc\u001b[49m)[\u001b[38;5;241m0\u001b[39m,\u001b[38;5;241m1\u001b[39m])\n\u001b[1;32m     27\u001b[0m corr_mle\u001b[38;5;241m.\u001b[39mappend(np\u001b[38;5;241m.\u001b[39mcorrcoef(df_score_elo,pi_mle)[\u001b[38;5;241m0\u001b[39m,\u001b[38;5;241m1\u001b[39m])\n\u001b[1;32m     29\u001b[0m \u001b[38;5;66;03m# Correlation between ELO ranks and estimated ranks for DRC, MLE and Borda\u001b[39;00m\n",
      "\u001b[0;31mNameError\u001b[0m: name 'pi_rc' is not defined"
     ]
    }
   ],
   "source": [
    "corr_drc = []\n",
    "corr_mle = []\n",
    "rank_corr_drc = []\n",
    "rank_corr_mle = []\n",
    "rank_corr_borda = []\n",
    "\n",
    "for season in all_seasons:\n",
    "    print(season)\n",
    "    random.seed(0)\n",
    "    np.random.seed(0)\n",
    "    result = nfl.get_final_rank_season(data_dir, season, team_id, all_rnds,elo_all,t = 1,loocv= True,num_loocv = 40,borda = True,delta_borda = False,elo = True, mle = True,loocv_mle = 20)\n",
    "\n",
    "    df_rank_elo,df_score_elo,l_drc,l_borda,l_mle = result\n",
    "    pi_drc,df_drc,_ = l_drc\n",
    "    beta_mle,df_mle = l_mle\n",
    "    df_borda = l_borda[1]\n",
    "\n",
    "    # Get pi_mle\n",
    "    pi_mle = np.exp(beta_mle)\n",
    "    pi_mle = pi_mle/sum(pi_mle)\n",
    "\n",
    "    # Normalize the ELO scores, as our estimators of strenght pi_rc and beta_mle are normalized\n",
    "    df_score_elo = df_score_elo/sum(df_score_elo)\n",
    "\n",
    "    # Correlation between ELO scores and estimated strength for DRC and MLE\n",
    "    corr_drc.append(np.corrcoef(df_score_elo,pi_drc)[0,1])\n",
    "    corr_mle.append(np.corrcoef(df_score_elo,pi_mle)[0,1])\n",
    "\n",
    "    # Correlation between ELO ranks and estimated ranks for DRC, MLE and Borda\n",
    "    rank_corr_drc.append(ss.kendalltau(df_rank_elo,df_drc)[0])\n",
    "    rank_corr_mle.append(ss.kendalltau(df_rank_elo,df_mle)[0])\n",
    "    rank_corr_borda.append(ss.kendalltau(df_rank_elo,df_borda)[0])\n",
    "\n",
    "    # Save results with value of delta_star in title\n",
    "    df_drc.to_csv('Results_nfl/ranks_drc_'+str(season)+'.csv')\n",
    "    df_borda.to_csv('Results_nfl/ranks_borda_'+str(season)+'.csv')\n",
    "    df_rank_elo.to_csv('Results_nfl/ranks_elo_'+str(season)+'.csv')\n",
    "    df_mle.to_csv('Results_nfl/ranks_mle_'+str(season)+'.csv')"
   ]
  },
  {
   "cell_type": "markdown",
   "id": "7d22511a-d74d-4a11-a59a-e70b62d46a8d",
   "metadata": {},
   "source": [
    "# Creation of the Tables 3,4 : correlations between ELO and our estimators"
   ]
  },
  {
   "cell_type": "code",
   "execution_count": null,
   "id": "83f2d3e7-27a9-44ca-8c80-a6cad8987390",
   "metadata": {},
   "outputs": [],
   "source": [
    "# Table 3 : correlation of the ranks\n",
    "\n",
    "row_drc = rank_corr_drc.insert(0,'DRC')\n",
    "row_mle = rank_corr_mle.insert(0,'MLE')\n",
    "row_borda = rank_corr_borda.insert(0,'Borda')\n",
    "\n",
    "print(tabulate([row_drc,row_mle,row_borda],headers=all_seasons))"
   ]
  },
  {
   "cell_type": "code",
   "execution_count": null,
   "id": "2d9dd7b9-4444-4ef2-8937-e9226943e5dd",
   "metadata": {},
   "outputs": [],
   "source": [
    "# Table 4 : correlation of the strengths\n",
    "\n",
    "row_drc = corr_drc.insert(0,'DRC')\n",
    "row_mle = corr_mle.insert(0,'MLE')\n",
    "\n",
    "print(tabulate([row_drc,row_mle],headers=all_seasons))"
   ]
  },
  {
   "cell_type": "code",
   "execution_count": null,
   "id": "43055e36-5b2f-484f-b843-f05e4be0b4d2",
   "metadata": {},
   "outputs": [],
   "source": []
  }
 ],
 "metadata": {
  "kernelspec": {
   "display_name": "Python 3 (ipykernel)",
   "language": "python",
   "name": "python3"
  },
  "language_info": {
   "codemirror_mode": {
    "name": "ipython",
    "version": 3
   },
   "file_extension": ".py",
   "mimetype": "text/x-python",
   "name": "python",
   "nbconvert_exporter": "python",
   "pygments_lexer": "ipython3",
   "version": "3.8.5"
  }
 },
 "nbformat": 4,
 "nbformat_minor": 5
}
